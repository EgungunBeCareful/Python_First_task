{
 "cells": [
  {
   "cell_type": "code",
   "execution_count": null,
   "metadata": {},
   "outputs": [],
   "source": [
    "\"\"\"Write a Python program which accepts the radius of a circle \n",
    " from the user and computes the area.\"\"\"\n",
    "\n",
    "r = input(\"what is the value of your radius? \")\n",
    "r_squared = float(r)* float(r)\n",
    "Area_of_Circle = 3.142 * (r_squared)\n",
    "\n",
    "print (Area_of_Circle)\n",
    "display = f'The Area of the circle is {Area_of_Circle}'\n",
    "print(display)\n"
   ]
  }
 ],
 "metadata": {
  "kernelspec": {
   "display_name": "Python 3",
   "language": "python",
   "name": "python3"
  },
  "language_info": {
   "codemirror_mode": {
    "name": "ipython",
    "version": 3
   },
   "file_extension": ".py",
   "mimetype": "text/x-python",
   "name": "python",
   "nbconvert_exporter": "python",
   "pygments_lexer": "ipython3",
   "version": "3.7.3"
  }
 },
 "nbformat": 4,
 "nbformat_minor": 2
}
